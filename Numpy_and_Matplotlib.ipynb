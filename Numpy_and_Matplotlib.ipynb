{
  "nbformat": 4,
  "nbformat_minor": 0,
  "metadata": {
    "colab": {
      "provenance": [],
      "authorship_tag": "ABX9TyOA8Si+37luM1xWIgWWz2p1",
      "include_colab_link": true
    },
    "kernelspec": {
      "name": "python3",
      "display_name": "Python 3"
    },
    "language_info": {
      "name": "python"
    }
  },
  "cells": [
    {
      "cell_type": "markdown",
      "metadata": {
        "id": "view-in-github",
        "colab_type": "text"
      },
      "source": [
        "<a href=\"https://colab.research.google.com/github/jphagen3/Hagen-351-Python/blob/first-edit/Numpy_and_Matplotlib.ipynb\" target=\"_parent\"><img src=\"https://colab.research.google.com/assets/colab-badge.svg\" alt=\"Open In Colab\"/></a>"
      ]
    },
    {
      "cell_type": "markdown",
      "source": [
        "# Plotting with NumPy and Matplotlib\n",
        "\n",
        "  \n",
        "## NumPy\n",
        " Basic math funtions are built into Python, but for anything more complicated than polynomials we will need to use NumPy.  NumPy is a Python library  containing many scientific funtions.  \n",
        " ### Using NumPy\n",
        " To use this library we will use the command  `import numpy as np`.  This command imports the library and gives it the nickname `np`; we must put the prefix `np.` in front of each command from the NumPy library that we use in our code.\n",
        "### NumPy Arrays\n",
        "NumPy stores data in multidimensional arrays; these are essentially tables of numbers. For instance, `a = np.array([1, 2, 3])`  creates a one-dimensional array named `a`.  \n",
        "`b = np.array([(1.5,2,3), (4,5,6)])` creates a two-dimensional array named `b`."
      ],
      "metadata": {
        "id": "JFed8U-3S3j5"
      }
    },
    {
      "cell_type": "markdown",
      "source": [
        "# Example 1\n",
        "Three examples of arrays are shown below."
      ],
      "metadata": {
        "id": "GTZuUc87ArU0"
      }
    },
    {
      "cell_type": "code",
      "source": [
        "import numpy as np\n",
        "\n",
        "a = np.array([1, 2, 3, 4, 5, 6])  # Creates a one-dimensional array\n",
        "print('a is equal to ', a)\n",
        "b = np.array([(1.5,2,3), (4,5,6)]) # Creates a two-dimensional array\n",
        "print('b is equal to ', b)\n",
        "c = np.array([(1.5,2,3), (4,5,6), (2.3, 4.5, 9.8)]) # Creates a two-dimensional array\n",
        "print('c is equal to ' ,  c)                        # Creates a slightly-larger two-dimensional array\n",
        "\n",
        "# Note that we have added labels to our print statements.\n",
        "# This is prevents confusion when more than one item is printed.\n",
        "# Note that everything in a print statement between the quote marks is printed verbatim."
      ],
      "metadata": {
        "colab": {
          "base_uri": "https://localhost:8080/"
        },
        "id": "CXBshPD_-F6D",
        "outputId": "4c511f8c-0d30-43c0-b996-6a21c5dc86d7"
      },
      "execution_count": null,
      "outputs": [
        {
          "output_type": "stream",
          "name": "stdout",
          "text": [
            "a is equal to  [1 2 3 4 5 6]\n",
            "b is equal to  [[1.5 2.  3. ]\n",
            " [4.  5.  6. ]]\n",
            "c is equal to  [[1.5 2.  3. ]\n",
            " [4.  5.  6. ]\n",
            " [2.3 4.5 9.8]]\n"
          ]
        }
      ]
    },
    {
      "cell_type": "markdown",
      "source": [
        "# Slicing Arrays\n",
        "Sometimes we need to pull out a piece, or slice, of an array.  The slice could be as small as a single value.  Here are a few ways to slice arrays.    \n",
        "\n",
        "`arrayname[0]` returns the first element in a one-dimentional array.  Note that we number starting with zero.     \n",
        "\n",
        "`arrayname[-1]` returns the last element in a one-dimentional array.  If you use larger negative numbers you will count back from the end of the array, so [-3] would return the third-to-last value in a one-dimensional array.   \n",
        "\n",
        "`arrayname[2:]` returns the elements in a one-dimentional array starting with the third value and continuing to the end.      \n",
        "\n",
        "`arrayname[:-1]` returns the elements in a one-dimentional array from the begining up to, but not including, the last value.\n",
        "\n",
        "\n",
        "`arrayname[1,2]` returns the value that is in the second row and third column of a two-dimensional array.\n",
        "\n",
        "`arrayname[1:4]` returns elements in a one-dimensional array starting with the second value and continuing up to, but not including, the fifth value."
      ],
      "metadata": {
        "id": "DGgJa5XurIOJ"
      }
    },
    {
      "cell_type": "markdown",
      "source": [
        "Example 2"
      ],
      "metadata": {
        "id": "0PTHdwcIwkPL"
      }
    },
    {
      "cell_type": "code",
      "source": [
        "\n",
        "d = np.array([11, 22, 33, 44, 55, 66, 77])\n",
        "slice_1=d[2:]\n",
        "print('slice_1 is ', slice_1)\n",
        "slice_2=d[1:4]\n",
        "print('slice_2 is ', slice_2)\n",
        "slice_3=d[2:-2]\n",
        "print('slice_3 is ', slice_3)"
      ],
      "metadata": {
        "colab": {
          "base_uri": "https://localhost:8080/"
        },
        "id": "AaoRiXXYrRNI",
        "outputId": "cf8a1263-adc8-4088-93ce-7769114e0a22"
      },
      "execution_count": null,
      "outputs": [
        {
          "output_type": "stream",
          "name": "stdout",
          "text": [
            "slice_1 is  [33 44 55 66 77]\n",
            "slice_2 is  [22 33 44]\n",
            "slice_3 is  [33 44 55]\n"
          ]
        }
      ]
    },
    {
      "cell_type": "markdown",
      "source": [
        "# Matplotlib\n",
        "Matplotlib is library that one can use to make plots in Python. Pyplot is a module in this library that uses syntax very similar to MATLAB.  We will use Pyplot for our plots.  To use this module we will use the command `import matplotlib.pyplot as plt`. This command imports the module and gives it the nickname `plt`; we must put the prefix `plt.` in front of each command from the Matplotlib Pyplot module that we use in our code.\n",
        "\n",
        "\n",
        "\n",
        "# Creating Arrays for Plotting\n",
        "NumPy's `linspace` function allows us to create a range of evenly spaced values over a specified interval. For example, we can create an array of 100 values from 0 to 2π:  \n",
        "\n",
        "`x = np.linspace(0, 2 * np.pi, 100)`    \n",
        "\n",
        "We can use these `x` values to create another array for y. For example, we might want y to be the sine of x:    \n",
        "`y = np.sin(x)`     \n",
        "This command makes an array named `y` that contains the sine of the values in the array `x`.\n",
        "\n",
        "## Basic Plotting with Matplotlib.Pyplot\n",
        "Matplotlib's pyplot module makes it easy to make  plots. The most basic plot we can make is a line plot of y as a function of x:\n",
        "`plt.plot(x, y)`   \n",
        "There are two ways to turn this into a scatter plot.  We can use a plot type that defaults to scatter:   \n",
        "`plt.scatter(x,y)`  \n",
        "Alternatively, we could  specify the data marker:   \n",
        "`plt.plot(x,y,'o')   \n",
        "\n",
        "In this case, 'o' means circular markers.  Many other markers are available, such as 'd' for diamond and 's' for square.\n",
        "\n",
        "\n",
        "\n",
        "\n",
        "\n",
        "\n",
        "## References\n",
        "NumPy Documentation: https://numpy.org/doc/stable/\n",
        "\n",
        "Matplotlib Documentation: https://matplotlib.org/stable/contents.html\n"
      ],
      "metadata": {
        "id": "YDv6OEC1A8io"
      }
    },
    {
      "cell_type": "markdown",
      "source": [
        "# Example 3\n",
        "Let's plot the vibration in a car after it hits a pothole.  The car's springs will begin to oscillate, but this oscillation will be dampened by the shock absorbers.  In our example the shock absorbers are a bit worn out.  The amplitude of the vibration can be modeled with the following equation:    \n",
        "$y=A \\ cos(t \\  k_1)e^{-k_2 t}$"
      ],
      "metadata": {
        "id": "PhTjksgPjjo8"
      }
    },
    {
      "cell_type": "code",
      "source": [
        "import matplotlib.pyplot as plt\n",
        "# Always comment your code with the units of the constants you use.\n",
        "K1=4                            #1/s\n",
        "K2=1                            # 1/s\n",
        "A=5                             # cm\n",
        "t = np.linspace(0, 5, 100)\n",
        "y=np.cos(K1*t)*np.exp(-K2* t)   # note the syntax for the exponential operation\n",
        "plt.plot(x,y,'o')\n",
        "plt.xlabel('Time (s)')                # Remember to include units on axis labels\n",
        "plt.ylabel(r'Vertical Displacement  (cm)')\n",
        "\n",
        "\n"
      ],
      "metadata": {
        "colab": {
          "base_uri": "https://localhost:8080/",
          "height": 467
        },
        "id": "wMR29UqvJUyG",
        "outputId": "82105fad-8ec1-4741-ee87-e4b2cd74796e"
      },
      "execution_count": null,
      "outputs": [
        {
          "output_type": "execute_result",
          "data": {
            "text/plain": [
              "Text(0, 0.5, 'Vertical Displacement  (cm)')"
            ]
          },
          "metadata": {},
          "execution_count": 74
        },
        {
          "output_type": "display_data",
          "data": {
            "text/plain": [
              "<Figure size 640x480 with 1 Axes>"
            ],
            "image/png": "[encoded data removed]"
          },
          "metadata": {}
        }
      ]
    },
    {
      "cell_type": "markdown",
      "source": [
        "# Practice\n",
        "\n",
        "\n",
        "1.   Suppose you measured the following absorbance data for four different solutions in the lab. Make a graph of this data and label the axes.   \n",
        "\n",
        "Concentration (M)   \n",
        "0.01  \n",
        "0.03   \n",
        "0.05   \n",
        "0.10   \n",
        "   \n",
        "\n",
        "Absorbance   \n",
        "0.12  \n",
        "0.36   \n",
        "0.60  \n",
        "1.20    \n",
        "    \n",
        "\n",
        "\n",
        "2. Suppose you measured the interaction energy between two atoms as a function of the distance between the atoms, r.  \n",
        "\n",
        "r (angstroms) \n",
        "0.8   \n",
        "0.9  \n",
        "1.0  \n",
        "1.1   \n",
        "1.2   \n",
        "1.3   \n",
        "1.4\n",
        "    \n",
        "\n",
        "Interaction energy (eV).  \n",
        "\n",
        "-1.41  \n",
        "-1.59  \n",
        "-1.68   \n",
        "-1.70   \n",
        "-1.68   \n",
        "-1.63   \n",
        "-1.56  \n",
        "\n",
        "Plot the data. Then, scale the data relative to the lowest interaction energy. That is, you want the lowest point on the potential energy surface to be 0 and all the other values measured relative to that lowest value.   \n",
        "\n",
        "\n",
        "3.   Graph the function $y = \\frac{sin(2 x)}{3}$ . Use 0 to 2$\\pi$ for your domain.    \n",
        "\n",
        "4. Plot the value of p as a function of molar volume v for the van der Waals equation. Do this for carbon dioxide at two temperatures, 250 and 350 K. Use 1 L to 20 L for your domain."
      ],
      "metadata": {
        "id": "LcvBb7Ztqr0N"
      }
    },
    {
      "cell_type": "markdown",
      "source": [
        "# Optional Note\n",
        "\n",
        "\n",
        "Sometimes you need to use Greek letters or other typesetting in your axes labels. You can use MathJax (https://math.meta.stackexchange.com/questions/5020/mathjax-basic-tutorial-and-quick-reference) to do so, but you need to include the character r at the start of the label. You can try this out by replacing the ylabel above with the one shown below.  \n",
        "`plt.ylabel(r'Vertical Displacement  ($\\mu$m)')`"
      ],
      "metadata": {
        "id": "zqKJFx8ep7NS"
      }
    }
  ]
}
