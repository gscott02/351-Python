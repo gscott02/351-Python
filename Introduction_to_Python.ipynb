{
  "nbformat": 4,
  "nbformat_minor": 0,
  "metadata": {
    "colab": {
      "provenance": [],
      "toc_visible": true,
      "include_colab_link": true
    },
    "kernelspec": {
      "name": "python3",
      "display_name": "Python 3"
    },
    "language_info": {
      "name": "python"
    }
  },
  "cells": [
    {
      "cell_type": "markdown",
      "metadata": {
        "id": "view-in-github",
        "colab_type": "text"
      },
      "source": [
        "<a href=\"https://colab.research.google.com/github/gscott02/351-Python/blob/main/Introduction_to_Python.ipynb\" target=\"_parent\"><img src=\"https://colab.research.google.com/assets/colab-badge.svg\" alt=\"Open In Colab\"/></a>"
      ]
    },
    {
      "cell_type": "markdown",
      "source": [
        "# Intro to Python for Physical Chemistry\n",
        "\n",
        "> This notebook is adapted from https://github.com/Abravene/Python-Notebooks-for-Physical-Chemistry\n",
        "\n",
        "Coding is one of the most useful and transferable skills in the modern age. These Python computer tutorials are designed for physical chemistry class and assumes no previous knowledge of Python or computer science. The goal isn’t to teach you everything about Python, but to give you a gentle introduction through applied learning and practical problem solving so you will be equipped in case you wish to further explore this area.\n",
        "\n",
        "Just like in experimental labs, it's not always practical to try to understand every detail in full. For example, we consider only the basic fundamentals behind the engineering of the lab instruments like the GC-MS or UV-vis. It isn't the best use of our time to fully delve into the materials involved in the construction or the software engineering. As students of physical chemistry, we are interested in the application and the broad scientific implications.\n",
        "\n",
        "Likewise, we will try to understand the big picture in our coding exercises. Don't get too caught up with how every single line or package works! Instead, focus on the concepts and implications for physical chemistry.\n",
        "\n",
        "To do this we need to start by going through the basics of programming in Python. Once you have had some practice writing, editing, and running pieces of Python code, you'll be able to handle more complex programming concepts and start using these to explore some interesting ideas in physical chemistry.\n",
        "\n",
        "#Contents:\n",
        "The learning objectives for this lab are:\n",
        "\n",
        "*   Learn some Python syntax\n",
        "*   Understand how to do simple calculations\n",
        "*   Understand how to make functions\n",
        "\n",
        "**To make a copy of this notebook:**\n",
        "\n",
        "If you are using Google Colab, you must click the \"Copy to Drive\" button at the top of the toolbar. If you don't do this, you won't be able to save your work. If you are using Jupyter Notebook/Hub, this is not necessary.\n",
        "\n",
        "**To run the code below:**\n",
        "\n",
        "Click on the cell to select it.\n",
        "Press SHIFT+ENTER on your keyboard or press the Run button.\n",
        "\n",
        "**To clear outputs:**\n",
        "\n",
        "Click on the clear output button (x) in the toolbar above the cell located in the top lefthand corner just above the graphical output."
      ],
      "metadata": {
        "id": "Ur8-BPrDu_pL"
      }
    },
    {
      "cell_type": "markdown",
      "source": [
        "# Simple Calculations\n",
        "One of the simplest forms of “code” that can be run in code cells is mathematical expressions.\n",
        "\n",
        "In the code below you will see such operations and comments.\n",
        "\n",
        "Comments are added with the purpose of making the source code easier for humans to understand, and are generally ignored by compilers and interpreters. In the cell below, they are given in green and follow the #.\n",
        "\n",
        "You may also see a red multi-line comment with docstrings bounded by \"\"\".\n",
        "\n",
        "Go ahead and run the code below.\n",
        "\n",
        "See if you can print some of the simple calculations.\n"
      ],
      "metadata": {
        "id": "c71LkFKqvCMt"
      }
    },
    {
      "cell_type": "code",
      "source": [
        "#This is a comment. The code below is going to do some math. wow.\n",
        "\n",
        "#addition\n",
        "10+2\n",
        "\n",
        "#subtraction\n",
        "10-2\n",
        "\n",
        "#multiplication\n",
        "10*2\n",
        "\n",
        "#division\n",
        "10/2\n",
        "\n",
        "#exponents (powers) with a double '*':\n",
        "\n",
        "10**2\n",
        "\n",
        "#We can easily print things to the screen:\n",
        "\n",
        "print('Hello World!')\n",
        "\n",
        "#If we want to store a number to use later in another calculation, we use variables:\n",
        "\n",
        "a = 2\n",
        "b = 6\n",
        "\n",
        "c=a*b\n",
        "\n",
        "print(c)"
      ],
      "metadata": {
        "id": "Y7TaxPmdvFz1"
      },
      "execution_count": null,
      "outputs": []
    },
    {
      "cell_type": "code",
      "source": [
        "#Printing\n",
        "\n",
        "temp = 10+20 #K\n",
        "temp2 = 10/3\n",
        "\n",
        "#you can use '' and commas to print text\n",
        "\n",
        "print('this is text describing some example temp of', temp, 'K')\n",
        "\n",
        "#you can also round your answer using (round(number,ndigits))\n",
        "print(round(temp2, 2))\n",
        "\n",
        "#see if you can combine printing text and modifying the number\n",
        "\n"
      ],
      "metadata": {
        "id": "F886x41afv3i"
      },
      "execution_count": null,
      "outputs": []
    },
    {
      "cell_type": "markdown",
      "source": [
        "# Understanding the Equals Sign\n",
        "\n",
        "The equals sign (=) in Python is an assignment operator, which has a different meaning than in mathematical expressions where it establishes equality. Consider thef following:\n",
        "\n",
        "`x = 1`\n",
        "\n",
        "This assigns the value 1 to the variable x. This also looks okay as a mathematical expression. Consider, however, the following:\n",
        "\n",
        "`x = x + 1`\n",
        "\n",
        "This would not make sense from a mathematical point of view, but it's a perfectly normal Python statement. Here it says assign to the variable x (on the lefthand side) the current value of x + 1. Run the code below to see it in action."
      ],
      "metadata": {
        "id": "EmSRU7BsdCS-"
      }
    },
    {
      "cell_type": "code",
      "source": [
        "x = 1\n",
        "x = x + 1\n",
        "print(x)"
      ],
      "metadata": {
        "id": "TeZCn49DdtxE"
      },
      "execution_count": null,
      "outputs": []
    },
    {
      "cell_type": "markdown",
      "source": [
        "If we wanted x to stay 1, we could have assigned the value to a new variable, for example:\n",
        "\n",
        "`y = x + 1`\n",
        "\n",
        "Because we are assigning values with the equals sign rather than establishing equality, this means that we cannot solve the algebraic expression symbolically. There are, however, packages that will allow you to do symbolic math and are covered in a different tutorial.\n",
        "\n",
        "Check your understanding of the assignment operator by predicting the output of the following cell before running it."
      ],
      "metadata": {
        "id": "GaUD3-wpd7iT"
      }
    },
    {
      "cell_type": "code",
      "source": [
        "z = 2\n",
        "k = 5\n",
        "z = k - z\n",
        "z = z + k\n",
        "print(z)"
      ],
      "metadata": {
        "id": "OShzs1EOezph"
      },
      "execution_count": null,
      "outputs": []
    },
    {
      "cell_type": "markdown",
      "source": [
        "## Hess' Law Calculation (acetylene)\n",
        "Germain Henri Hess, in 1840, discovered a very useful principle which is named for him:\n",
        "\n",
        "*The enthalpy of a given chemical reaction is constant, regardless of the reaction happening in one step or many steps.*\n",
        "\n",
        "\n",
        "Using Hess' Law and the code cell below, calculate the enthalpy for the production of acetylene,\n",
        "\n",
        "\n",
        "$2C_{(s)} + H_{2(g)} \\rightarrow C_{2}H_{2(g)}$\t      $      ΔH° = ??? kJ$\n",
        "\n",
        "Given the following thermochemical equations:\n",
        "\n",
        "1. $C_{2}H_{2(g)} + 5⁄2O+_{2(g)} \\rightarrow 2CO_{2(g)} + H_{2}O_{(ℓ)},   \\;\\;\\;\\;\\;\\;\\;      ΔH° = −1299.5 kJ$\n",
        "2. $C(s) + O_{2(g)} \\rightarrow CO_{2(g)}, \\;\\;\\;\\;\\;\\;\\;\\;\\;\\;\\;\\;\\;\\;\\;\\;\\;\\;\\;\\;\\;\\;\\;\\;\\;\\;\\;\\;\\;\\;\\;\\;\\;\\;\\;\\;\\;\\;\\;\\;\\;\\;\\;\tΔH° = −393.5 kJ$\n",
        "3. $H_{2(g)} + 1⁄2O_{2(g)} \\rightarrow H2O(ℓ), \t\\;\\;\\;\\;\\;\\;\\;\\;\\;\\;\\;\\;\\;\\;\\;\\;\\;\\;\\;\\;\\;\\;\\;\\;\\;\\;\\;\\;\\;\\;\\;\\;ΔH° = −285.8 kJ$"
      ],
      "metadata": {
        "id": "sLXb0gf_vQCx"
      }
    },
    {
      "cell_type": "code",
      "source": [
        "#Note acetylene torches are great.\n",
        "\n",
        "#Assign variables. Finish filling in values here.\n",
        "\n",
        "dH1=-1299.5 #kj\n",
        "dH2= #you fill this in, note that units are not included so keep track in comments\n",
        "dH3= #you fill this in\n",
        "\n",
        "\"\"\"\n",
        "Below, apply Hess'Law and adjust the above equations\n",
        "1) first eq: flip it so as to put C2H2 on the product side\n",
        "2) second eq: multiply it by two to get 2C\n",
        "3) third eq: do nothing. We need one H2 on the reactant side and that's what we have.\"\"\n",
        "\"\"\"\n",
        "\n",
        "dH_acetylene = -dH1 + 2*dH2 + dH3\n",
        "\n",
        "#print the result, notice how using '' and commas allows you to print text\n",
        "print('ΔH° for the production of acetylene:', dH_acetylene, 'kJ')\n"
      ],
      "metadata": {
        "id": "iKAYh-0YvOTo"
      },
      "execution_count": null,
      "outputs": []
    },
    {
      "cell_type": "markdown",
      "source": [
        "##Hess' Law Calculation (Iron)\n",
        "\n",
        "Determine the heat of reaction for the oxidation of iron:\n",
        "\n",
        "$2Fe_{(s)} + 3⁄2O_{2(g)} \\rightarrow Fe_{2}O_{3(s)}$\n",
        "\n",
        "given the thermochemical equations:\n",
        "\n",
        "1. $2Fe(s) + 6H2O(ℓ) \\rightarrow 2Fe(OH)_{3(s)} + 3H_{2(g)} \\;\\;\\;\\;\\;\\;\\;\\;\\;\\;\\;\\;\\;\\;\\;\\;\\;\\;\\;\\;\\;\\;\\;\\;\\;\\;\\;ΔH = +322 kJ$\n",
        "2. $Fe_{2}O_{3(s)} + 3H_{2}O_{(ℓ)} \\rightarrow 2Fe(OH)_{3(s)}\t  \\;\\;\\;\\;\\;\\;\\;\\;\\;\\;\\;\\;\\;\\;\\;\\;\\;\\;\\;\\;\\;\\;\\;\\;\\;\\;\\;\\;\\;\\;\\;\\;\\;\\;\\;\\;\\;\\;\\;\\;ΔH = +289 kJ$\n",
        "3. $2H_{2(g)} + O_{2(g)} \\rightarrow 2H_{2}O_{(ℓ)}\t \\;\\;\\;\\;\\;\\;\\;\\;\\;\\;\\;\\;\\;\\;\\;\\;\\;\\;\\;\\;\\;\\;\\;\\;\\;\\;\\;\\;\\;\\;\\;\\;\\;\\;\\;\\;\\;\\;\\;\\;\\;\\;\\;\\;\\;\\;\\;\\;\\;\\;\\;\\;\\;\\;\\;\\;\\;ΔH = +572 kJ$\n"
      ],
      "metadata": {
        "id": "NygsBuIFvdu2"
      }
    },
    {
      "cell_type": "code",
      "source": [
        "dH1 = #you fill this in\n",
        "dH2 = #you fill this in\n",
        "dH3 = #you fill this in\n",
        "\n",
        "products = #you fill this in\n",
        "\n",
        "reactants = #you fill this in\n",
        "\n",
        "dH_iron = products - reactants\n",
        "\n",
        "print('ΔH° for the production of iron:', dH_iron, 'kJ')\n"
      ],
      "metadata": {
        "id": "HufT1SQUvX2a"
      },
      "execution_count": null,
      "outputs": []
    },
    {
      "cell_type": "markdown",
      "source": [
        "# Creating a Function: Boyle's Law\n",
        "\n",
        "A function is simply a piece of code that we want to use multiple times but don't want to write out each time.\n",
        "\n",
        "For example, if we wanted to continually use the perfect gas law to solve for pressure over temperatures spanning 10 to 1000 K in 50 K increments, we could write a function to do it. In Python a function is defined using the def keyword.\n",
        "\n",
        "So if we wanted to create a function to compute the volume of a perfect gas, we would do so as below.\n",
        "\n",
        "Let's use P = 1.01 atm, n = 0.00831 mol, T = 298.15 K. The function will compute V.\n"
      ],
      "metadata": {
        "id": "S-OeQeTN4d4U"
      }
    },
    {
      "cell_type": "code",
      "source": [
        "R = 0.08206 #L atm mol¯1 K¯\n",
        "\n",
        "\"\"\"\n",
        "A function that returns the V of a\n",
        "perfect gas as a function of P, T, and moles\n",
        "according to V=nRT/P\n",
        "\n",
        "\"\"\"\n",
        "\n",
        "def compute_gas_V(gas_P, gas_T, gas_mol):\n",
        "\n",
        "    return (gas_mol * R * gas_T)/gas_P\n",
        "\n",
        "print(compute_gas_V(1.01, 298.15, 0.00831),'L')\n",
        "\n"
      ],
      "metadata": {
        "id": "fFD6ym7RvHzJ"
      },
      "execution_count": null,
      "outputs": []
    },
    {
      "cell_type": "markdown",
      "source": [
        "## Creating a Function: Gay-Lussac’s law, Charle's Law, or Avogadro's law\n",
        "\n",
        "Using the above example as a guide, for either Gay-Lussac’s law, Charle's Law, or Avogadro's law."
      ],
      "metadata": {
        "id": "ZnsLzLvfRilS"
      }
    },
    {
      "cell_type": "code",
      "source": [
        "#Your code goes here!\n",
        "\n",
        "\n",
        "\n"
      ],
      "metadata": {
        "id": "E_rz-qwtRiV4"
      },
      "execution_count": null,
      "outputs": []
    },
    {
      "cell_type": "markdown",
      "source": [
        "Final Remarks\n",
        "Good job on learning some basic Python skills!\n",
        "\n",
        "Programming in Python empowers scientists to apply their knowledge to scales beyond what can be accomplished with manual effort. Whether automating operations for large volumes of data, solving numerical problems, or creating simulations, there's a wealth of applications out there. We've only just scratched the surface.\n",
        "\n"
      ],
      "metadata": {
        "id": "fhVWwJNjSwfb"
      }
    }
  ]
}
