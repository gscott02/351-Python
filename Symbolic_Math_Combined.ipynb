{
  "nbformat": 4,
  "nbformat_minor": 0,
  "metadata": {
    "colab": {
      "provenance": [],
      "include_colab_link": true
    },
    "kernelspec": {
      "name": "python3",
      "display_name": "Python 3"
    },
    "language_info": {
      "name": "python"
    }
  },
  "cells": [
    {
      "cell_type": "markdown",
      "metadata": {
        "id": "view-in-github",
        "colab_type": "text"
      },
      "source": [
        "<a href=\"https://colab.research.google.com/github/gscott02/351-Python/blob/main/Symbolic_Math_Combined.ipynb\" target=\"_parent\"><img src=\"https://colab.research.google.com/assets/colab-badge.svg\" alt=\"Open In Colab\"/></a>"
      ]
    },
    {
      "cell_type": "markdown",
      "source": [
        "\n",
        "# Symbolic Math in Python\n",
        "Python offers the SymPy library, a powerful tool for symbolic mathematics. One can use this library to perform symbolic math functions such as taking derivatives, taking integrals, and solving for variables.  SymPy is pre-installed in Google Colab.  If you are in some other environment, SymPy may not yet be installed and you will need the code below:\n",
        "\n",
        "`pip install sympy`\n",
        "\n",
        "Before you can use SymPy, you need to import it into your script with this line of code:\n",
        "\n",
        "`from sympy import *`\n",
        "\n",
        "## Variables and Expressions\n",
        "In SymPy, we use the `symbols` function to create symbolic variables:  \n",
        "\n",
        "`x, y, z = symbols('x y z')`\n",
        "\n",
        "One can create symbolic math expressions with these symbols.  For instance, suppose that we wanted the expression $x^2+y^2+z^2$:  \n",
        "\n",
        "`expr = x**2 + y**2 + z**2`\n",
        "\n",
        "We can calculate a numerical value by substituring numbers in the variables.  For instance, we can substitute x=4, y=2, z=3 in the expression we developed above. We are storing the numerical result in a variable called \"value\"; when you write your own code you should choose a meaningful name instead.  \n",
        "`value = expr.subs({x:4, y:2, z:3})`\n",
        "\n",
        "  One can also substitute symbols with other symbols or expressions. We can run this example in the code block below."
      ],
      "metadata": {
        "id": "tr7k1iCWR4aw"
      }
    },
    {
      "cell_type": "code",
      "execution_count": 1,
      "metadata": {
        "id": "5PZzemqfRqLH",
        "colab": {
          "base_uri": "https://localhost:8080/",
          "height": 37
        },
        "outputId": "fb2b0878-33dd-40a1-c085-424dd76702ea"
      },
      "outputs": [
        {
          "output_type": "display_data",
          "data": {
            "text/plain": [
              "29"
            ],
            "text/latex": "$\\displaystyle 29$"
          },
          "metadata": {}
        }
      ],
      "source": [
        "\n",
        "from sympy import *               # import all elements from the sympy library\n",
        "x, y, z = symbols('x y z')        # tells Python that x y and z are symbolic variables\n",
        "expr = x**2 + y**2 + z**2         # Note that Python uses ** instead of ^ for exponents\n",
        "value = expr.subs({x:4, y:2, z:3})# Substitute numbers into the variables\n",
        "display(value)                      # Output the value of the variable value\n"
      ]
    },
    {
      "cell_type": "markdown",
      "source": [
        "## Derivatives and Integrals\n",
        "In the example above, we didn't really need to use a symbolic approach; it would have been simpler to just assign numerical values and then do the opperation this way:\n",
        "\n",
        "  `x=4`\n",
        "  `y=2`\n",
        "  `z=3`\n",
        "  `value=x**2+y**2+z**2`\n",
        "\n",
        "If we knew we weren't ever going to change the values of x, y, or z the code would be even simpler:\n",
        "\n",
        "  `value=4**2+2**2+3**2`\n",
        "\n",
        "So, why bother with a symbolic approach?  Often, our goal is a symbolic expression, not just a number.  A symbolic approach is needed in that case.  Three common symbolic operations are taking a derivative, taking an integral, and solving for a variable. Let's discuss derivatives and integrals first.\n",
        "\n",
        "### Derivatives\n",
        "For instance, we may need the *expression* for the isotheral compressibity of a material with a specific equation of state.  This means we need to take a derivative of the physical equation of state.\n",
        "You can calculate the derivative of an expression with respect to a variable using the diff function:\n",
        "`diff(expression name, variable)`\n",
        "If you want a higher-order derivative such as a second or third derivative, add a number.  In the example below, a third derivative is taken:\n",
        "`diff(expression name, variable, 3)`\n",
        "\n",
        "### Integrals\n",
        "To take an integral with respect to a variable, use the `integrate` command:\n",
        "`integrate(expression, variable)`\n",
        "To take a definate integral (an integral with limits) just put them in after the variable:\n",
        "`integrate(expression, (variable, lower limit, upper limit))`"
      ],
      "metadata": {
        "id": "5nQq4Bxppr9t"
      }
    },
    {
      "cell_type": "markdown",
      "source": [
        "# Example 1\n",
        "In the example below we define an expression for the pressure of an ideal gas.  We take several different partial derivatives of this expression and then integrate pressure with respect to volume."
      ],
      "metadata": {
        "id": "tWf4TkyFbCtH"
      }
    },
    {
      "cell_type": "code",
      "source": [
        "n, R, T, V, p = symbols('n R T V p')              # declare our symbolic variables\n",
        "p = n*R*T/V                                       # define an expression for pressure\n",
        "diff_p_V = diff(p, V)                             # take the partial derivative of pressure with respect to volume and store the result in a new expression\n",
        "# Note: we put the result into an expression called \"diff_p_V\".  We could choose any name as we please.\n",
        "display(diff_p_V)                                   # If we want to see results we use the print statement.\n",
        "second_diff_p_V = diff(p,V,2)                     # take the second partial derivative of pressure with respect to volume and store the result in a new expression\n",
        "display(second_diff_p_V)\n",
        "diff_p_T = diff(p, T)                             # take the partial derivative of pressure with respect to temperature and store the result in a new expression\n",
        "display(diff_p_T)\n",
        "int_p_V=integrate(p,V)                            # take the integral of pressure with respect to volume and store the result in a new expression\n",
        "display(int_p_V)\n",
        "V2, V1 = symbols('V1 V2')                        # declare symbolic variables for the limits of integration\n",
        "definite_int_p_V=integrate(p,(V,V1,V2))           # take the integral of pressure with respect to volume and store the result in a new expression\n",
        "display(definite_int_p_V)\n"
      ],
      "metadata": {
        "colab": {
          "base_uri": "https://localhost:8080/",
          "height": 165
        },
        "id": "XZv8n7TGWGYO",
        "outputId": "4fc8ac47-b353-44bf-d635-26e1d428b1d7"
      },
      "execution_count": 2,
      "outputs": [
        {
          "output_type": "display_data",
          "data": {
            "text/plain": [
              "-R*T*n/V**2"
            ],
            "text/latex": "$\\displaystyle - \\frac{R T n}{V^{2}}$"
          },
          "metadata": {}
        },
        {
          "output_type": "display_data",
          "data": {
            "text/plain": [
              "2*R*T*n/V**3"
            ],
            "text/latex": "$\\displaystyle \\frac{2 R T n}{V^{3}}$"
          },
          "metadata": {}
        },
        {
          "output_type": "display_data",
          "data": {
            "text/plain": [
              "R*n/V"
            ],
            "text/latex": "$\\displaystyle \\frac{R n}{V}$"
          },
          "metadata": {}
        },
        {
          "output_type": "display_data",
          "data": {
            "text/plain": [
              "R*T*n*log(V)"
            ],
            "text/latex": "$\\displaystyle R T n \\log{\\left(V \\right)}$"
          },
          "metadata": {}
        },
        {
          "output_type": "display_data",
          "data": {
            "text/plain": [
              "R*T*n*log(V1) - R*T*n*log(V2)"
            ],
            "text/latex": "$\\displaystyle R T n \\log{\\left(V_{1} \\right)} - R T n \\log{\\left(V_{2} \\right)}$"
          },
          "metadata": {}
        }
      ]
    },
    {
      "cell_type": "markdown",
      "source": [
        "# Solving an Equation\n",
        "If you wish to solve an equation for a variable you need to define the equation with a `Eq` command and then solve it with a `solve` command:  \n",
        "`equation name=Eq(left-hand-side, right-hand-side)`.  \n",
        "`solution=solve(equation name, variable)`"
      ],
      "metadata": {
        "id": "riiXUJlAhfx4"
      }
    },
    {
      "cell_type": "markdown",
      "source": [
        "# Example 2\n",
        "In this example we define the ideal gas  equation and then solve it for volume.  "
      ],
      "metadata": {
        "id": "JSV3jvRjknvi"
      }
    },
    {
      "cell_type": "code",
      "source": [
        "n, R, T, V, p, = symbols('n R T V p')\n",
        "\n",
        "Ideal = Eq(p, n*R*T/V)                # define an equation\n",
        "solution = solve(Ideal, V)            # solve the equation for V\n",
        "display(solution)"
      ],
      "metadata": {
        "colab": {
          "base_uri": "https://localhost:8080/",
          "height": 34
        },
        "id": "qoUhUCdqXr2y",
        "outputId": "04989e77-854e-41fb-c398-80946c7355e7"
      },
      "execution_count": 3,
      "outputs": [
        {
          "output_type": "display_data",
          "data": {
            "text/plain": [
              "[R*T*n/p]"
            ]
          },
          "metadata": {}
        }
      ]
    },
    {
      "cell_type": "markdown",
      "source": [
        "# Symbolic Substitution\n",
        "To substitute symbolic expressions into other expressions,  we can use the `subs` method with an expression instead of numbers.  Suppose that we want to replace x with y squared in an expression:  \n",
        "\n",
        "`new expression name = old expression name.subs(x, y**2)`\n"
      ],
      "metadata": {
        "id": "Oigcv1-qomZg"
      }
    },
    {
      "cell_type": "markdown",
      "source": [
        "\n",
        "# Example 3\n",
        "Suppose that we have written the expression for the van der Waals equation in terms of molar volume, `Vm` and that we now want to put it in terms of volume instead.  We can replace `Vm` with `V/n` in our equation using  `subs`.\n"
      ],
      "metadata": {
        "id": "p9epIN4ylgOH"
      }
    },
    {
      "cell_type": "code",
      "source": [
        "Vm, a, b, g =symbols('Vm a b g')             # Note that we don't have to declare the other symbols since we did so earlier when we ran the cells above.\n",
        "VDW1=Eq(p,R*T/(Vm-b)-a/Vm**2)\n",
        "display(VDW1)\n",
        "VDW2=VDW1.subs(Vm, V/n)\n",
        "display(VDW2)\n",
        "g=integrate(VDW1, (Vm,2,4))\n",
        "display(g)\n",
        "\n"
      ],
      "metadata": {
        "colab": {
          "base_uri": "https://localhost:8080/",
          "height": 127
        },
        "id": "0jE4EHZsgSsY",
        "outputId": "f1e17361-5a77-4d0e-f1a2-abc9cc079b6e"
      },
      "execution_count": 4,
      "outputs": [
        {
          "output_type": "display_data",
          "data": {
            "text/plain": [
              "Eq(p, R*T/(Vm - b) - a/Vm**2)"
            ],
            "text/latex": "$\\displaystyle p = \\frac{R T}{Vm - b} - \\frac{a}{Vm^{2}}$"
          },
          "metadata": {}
        },
        {
          "output_type": "display_data",
          "data": {
            "text/plain": [
              "Eq(p, R*T/(V/n - b) - a*n**2/V**2)"
            ],
            "text/latex": "$\\displaystyle p = \\frac{R T}{\\frac{V}{n} - b} - \\frac{a n^{2}}{V^{2}}$"
          },
          "metadata": {}
        },
        {
          "output_type": "display_data",
          "data": {
            "text/plain": [
              "Eq(2*p, -R*T*log(2 - b) + R*T*log(4 - b) - a/4)"
            ],
            "text/latex": "$\\displaystyle 2 p = - R T \\log{\\left(2 - b \\right)} + R T \\log{\\left(4 - b \\right)} - \\frac{a}{4}$"
          },
          "metadata": {}
        }
      ]
    },
    {
      "cell_type": "markdown",
      "source": [
        "# Practice\n",
        "\n",
        "\n",
        "\n",
        "1. Derive an expression for $\\left(\\frac{\\partial p}{\\partial V_m}\\right)_T$ for a van der Waals fluid by hand. Check your expression using a Python script.  \n",
        "2. Derive an expression for $\\left(\\frac{\\partial p}{\\partial T}\\right)_{V_m}$ for a van der Waals fluid. Check your expression using a Python script.  \n",
        "3.   An equation of state that can be used for condensed phases is shown below:  \n",
        "$V=V_0e^{T\\alpha _p +p \\kappa _T}$   \n",
        "Use Python to solve this equation for the pressure.  \n",
        "4. Use Python to calculate the work when carbon dioxide expands reversibly and isothermally from 10 L/mol to 20 L/mol at 298 K. a) Use the IGL  b) Use the VDW equation   \n",
        "5. Use Python to calculate the work when carbon dioxide expands reversibly and isothermally from 1.0 L/mol to 10 L/mol at 298 K. a) Use the IGL b) Use the VDW equation   \n",
        "6. Reflect: under which conditions is the ideal gas law suficient for approximate calcualations?\n",
        "\n",
        "\n",
        "\n",
        "\n",
        "\n"
      ],
      "metadata": {
        "id": "nKPEYcJb0Ai4"
      }
    }
  ]
}